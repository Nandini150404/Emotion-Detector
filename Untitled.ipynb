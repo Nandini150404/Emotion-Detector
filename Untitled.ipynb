{
 "cells": [
  {
   "cell_type": "code",
   "execution_count": 17,
   "id": "05130864-7e8e-41f1-85cc-6bdf20596f27",
   "metadata": {},
   "outputs": [],
   "source": [
    "import cv2\n",
    "import mediapipe as mp\n",
    "import numpy as np\n",
    "from PIL import Image\n",
    "import os"
   ]
  },
  {
   "cell_type": "code",
   "execution_count": 19,
   "id": "a81cf8b6-419b-4608-bcfc-33d20c930422",
   "metadata": {},
   "outputs": [],
   "source": [
    "emoji_folder = \"emoji\"\n",
    "emoji_map = {\n",
    "    \"happy\": \"happy.png\",\n",
    "    \"sad\": \"sad.png\",\n",
    "    \"angry\": \"angry.png\",\n",
    "    \"surprise\": \"surprise.png\",\n",
    "    \"neutral\": \"neutral.png\"\n",
    "}"
   ]
  },
  {
   "cell_type": "code",
   "execution_count": 21,
   "id": "48c0a681-cd1c-4a6e-9301-eb4d30844ece",
   "metadata": {},
   "outputs": [],
   "source": [
    "mp_face = mp.solutions.face_mesh\n",
    "mp_drawing = mp.solutions.drawing_utils"
   ]
  },
  {
   "cell_type": "code",
   "execution_count": 23,
   "id": "52372b83-7ff7-4b91-abf0-3518fe182c76",
   "metadata": {},
   "outputs": [],
   "source": [
    "input_image_path = \"input.jpg\"\n",
    "image = cv2.imread(input_image_path)\n",
    "rgb_image = cv2.cvtColor(image, cv2.COLOR_BGR2RGB)"
   ]
  },
  {
   "cell_type": "code",
   "execution_count": 25,
   "id": "b5d6ea55-c7f6-42c5-848f-8855c2794004",
   "metadata": {},
   "outputs": [],
   "source": [
    "with mp_face.FaceMesh(static_image_mode=True) as face_mesh:\n",
    "    result = face_mesh.process(rgb_image)\n",
    "\n",
    "expression = \"neutral\"  # default\n",
    "\n",
    "if result.multi_face_landmarks:\n",
    "    face_landmarks = result.multi_face_landmarks[0]\n",
    "    \n",
    "    # Get mouth and eyebrows points\n",
    "    mouth = [face_landmarks.landmark[i] for i in [61, 291]]\n",
    "    eyebrows = [face_landmarks.landmark[i] for i in [70, 300]]\n",
    "    eye = [face_landmarks.landmark[i] for i in [159, 145]]\n",
    "\n",
    "    # Calculate smile score (mouth width vs eye height)\n",
    "    mouth_width = np.linalg.norm(np.array([mouth[0].x, mouth[0].y]) - np.array([mouth[1].x, mouth[1].y]))\n",
    "    eye_height = np.linalg.norm(np.array([eye[0].y]) - np.array([eye[1].y]))\n",
    "\n",
    "    if mouth_width > 0.08:\n",
    "        expression = \"happy\"\n",
    "    elif eye_height > 0.03:\n",
    "        expression = \"surprise\"\n",
    "    elif eyebrows[0].y < eyebrows[1].y:\n",
    "        expression = \"angry\"\n",
    "    else:\n",
    "        expression = \"sad\""
   ]
  },
  {
   "cell_type": "code",
   "execution_count": 31,
   "id": "7b1791e6-b49c-4ebe-8746-731d34a3e86a",
   "metadata": {},
   "outputs": [],
   "source": [
    "emoji_folder = \".\"\n",
    "emoji_path = os.path.join(emoji_folder, emoji_map[expression])\n",
    "emoji_img = Image.open(emoji_path)\n",
    "emoji_img.show()\n"
   ]
  },
  {
   "cell_type": "code",
   "execution_count": null,
   "id": "7165b987-0fad-40fc-8159-431acc49992e",
   "metadata": {},
   "outputs": [],
   "source": []
  }
 ],
 "metadata": {
  "kernelspec": {
   "display_name": "Python [conda env:base] *",
   "language": "python",
   "name": "conda-base-py"
  },
  "language_info": {
   "codemirror_mode": {
    "name": "ipython",
    "version": 3
   },
   "file_extension": ".py",
   "mimetype": "text/x-python",
   "name": "python",
   "nbconvert_exporter": "python",
   "pygments_lexer": "ipython3",
   "version": "3.12.7"
  }
 },
 "nbformat": 4,
 "nbformat_minor": 5
}
